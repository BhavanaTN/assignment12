{
 "cells": [
  {
   "cell_type": "markdown",
   "metadata": {},
   "source": [
    "1.What is dictionary in Python? Explain with an example \n",
    "\n",
    "Dictionary in Python is an unordered \n",
    "collection of data values, used to store data \n",
    "values like a map, which unlike other Data \n",
    "Types that hold only single value as an \n",
    "element, Dictionary holds key:value pair. \n",
    "Key value is provided in the dictionary to \n",
    "make it more optimized.\n",
    "\n",
    "Creating a Dictionary:-\n",
    "In Python, a Dictionary can be created by \n",
    "placing sequence of elements within curly ;\n",
    "{} braces, separated by ‘comma’. \n",
    "Dictionary holds a pair of values, one being \n",
    "the Key and the other corresponding pair \n",
    "element being its Key:value. Values in a \n",
    "dictionary can be of any datatype and can \n",
    "be duplicated, whereas keys can’t be \n",
    "repeated and must be immutable.\n",
    "\n",
    "Syntax for Python Dictionary:\n",
    "\n",
    "  Dict = { ' Tim': 18,  'xyz':6,.... }\n",
    "  \n",
    "Simple example:\n",
    "  \n",
    "Dict = {'apple':1, 'banana':2, 'mango':3} \n",
    "print(\"\\nDictionary with the use of Integer Keys: \") \n",
    "print(Dict) \n",
    "\n",
    "output:-\n",
    "Dictionary with the use of Integer Keys:\n",
    "{'apple': 1, 'banana': 2, 'mango': 3}"
   ]
  },
  {
   "cell_type": "markdown",
   "metadata": {},
   "source": [
    "3.Write a Python program to sum all the items in a list. \n"
   ]
  },
  {
   "cell_type": "code",
   "execution_count": 1,
   "metadata": {},
   "outputs": [
    {
     "name": "stdout",
     "output_type": "stream",
     "text": [
      "11\n"
     ]
    }
   ],
   "source": [
    "def sum_list(items):\n",
    "    sum_numbers = 0\n",
    "    for x in items:\n",
    "        sum_numbers += x\n",
    "    return sum_numbers\n",
    "print(sum_list([1,2,8]))\n"
   ]
  },
  {
   "cell_type": "markdown",
   "metadata": {},
   "source": [
    "4.Write a Python program to create a list of empty dictionaries. \n"
   ]
  },
  {
   "cell_type": "code",
   "execution_count": 3,
   "metadata": {},
   "outputs": [
    {
     "name": "stdout",
     "output_type": "stream",
     "text": [
      "[{}, {}, {}, {}, {}]\n"
     ]
    }
   ],
   "source": [
    "n = 5\n",
    "l = [{} for _ in range(n)]\n",
    "print(l)\n"
   ]
  },
  {
   "cell_type": "markdown",
   "metadata": {},
   "source": [
    "5.Write a Python program to access dictionary keys element by index. \n"
   ]
  },
  {
   "cell_type": "code",
   "execution_count": 2,
   "metadata": {},
   "outputs": [
    {
     "name": "stdout",
     "output_type": "stream",
     "text": [
      "physics\n"
     ]
    }
   ],
   "source": [
    "num = {'physics': 80, 'math': 90, 'chemistry': 86}\n",
    "print(list(num)[0])\n"
   ]
  },
  {
   "cell_type": "markdown",
   "metadata": {},
   "source": [
    "6.Write a Python program to iterate over dictionaries using for loops \n"
   ]
  },
  {
   "cell_type": "code",
   "execution_count": 4,
   "metadata": {},
   "outputs": [
    {
     "name": "stdout",
     "output_type": "stream",
     "text": [
      "Red corresponds to  1\n",
      "Green corresponds to  2\n",
      "Blue corresponds to  3\n"
     ]
    }
   ],
   "source": [
    "d = {'Red': 1, 'Green': 2, 'Blue': 3} \n",
    "for color_key, value in d.items():\n",
    "     print(color_key, 'corresponds to ', d[color_key]) \n"
   ]
  },
  {
   "cell_type": "markdown",
   "metadata": {},
   "source": [
    "7.Write a Python program to sum all the items in a dictionary. \n"
   ]
  },
  {
   "cell_type": "code",
   "execution_count": 5,
   "metadata": {},
   "outputs": [
    {
     "name": "stdout",
     "output_type": "stream",
     "text": [
      "293\n"
     ]
    }
   ],
   "source": [
    "my_dict = {'data1':100,'data2':-54,'data3':247}\n",
    "print(sum(my_dict.values()))\n"
   ]
  },
  {
   "cell_type": "markdown",
   "metadata": {},
   "source": [
    "8.Write a Python script to concatenate following dictionaries to create a new one. Sample Dictionary : \n",
    "#a. dic1={1:10, 2:20} \n",
    "#b. dic2={3:30, 4:40} \n",
    "#c. dic3={5:50,6:60} \n",
    "#Expected Result : {1: 10, 2: 20, 3: 30, 4: 40, 5: 50, 6: 60} "
   ]
  },
  {
   "cell_type": "code",
   "execution_count": 6,
   "metadata": {},
   "outputs": [
    {
     "name": "stdout",
     "output_type": "stream",
     "text": [
      "{1: 10, 2: 20, 3: 30, 4: 40, 5: 50, 6: 60}\n"
     ]
    }
   ],
   "source": [
    "dic1={1:10, 2:20}\n",
    "dic2={3:30, 4:40}\n",
    "dic3={5:50,6:60}\n",
    "dic4 = {}\n",
    "for d in (dic1, dic2, dic3): dic4.update(d)\n",
    "print(dic4)\n"
   ]
  }
 ],
 "metadata": {
  "kernelspec": {
   "display_name": "Python 3",
   "language": "python",
   "name": "python3"
  },
  "language_info": {
   "codemirror_mode": {
    "name": "ipython",
    "version": 3
   },
   "file_extension": ".py",
   "mimetype": "text/x-python",
   "name": "python",
   "nbconvert_exporter": "python",
   "pygments_lexer": "ipython3",
   "version": "3.7.6"
  }
 },
 "nbformat": 4,
 "nbformat_minor": 4
}
